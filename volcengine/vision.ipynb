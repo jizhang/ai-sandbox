{
 "cells": [
  {
   "cell_type": "code",
   "execution_count": 1,
   "metadata": {},
   "outputs": [],
   "source": [
    "import os\n",
    "\n",
    "from volcenginesdkarkruntime import Ark\n",
    "\n",
    "model = \"doubao-1-5-vision-pro-32k-250115\"\n",
    "client = Ark(api_key=os.getenv('ARK_API_KEY'))\n",
    "\n",
    "\n",
    "def call_model(prompt: str, image_url: str):\n",
    "    response = client.chat.completions.create(\n",
    "        # 指定您部署了视觉理解大模型的推理接入点ID\n",
    "        model = model,\n",
    "        messages = [\n",
    "            {\n",
    "                \"role\": \"user\",  \n",
    "                \"content\": [  \n",
    "                    {\"type\": \"text\", \"text\": prompt},  \n",
    "                    {\n",
    "                        \"type\": \"image_url\", \n",
    "                        \"image_url\": {\n",
    "                            \"url\": image_url,\n",
    "                        },\n",
    "                    },\n",
    "                ],\n",
    "            }\n",
    "        ],\n",
    "    )\n",
    "\n",
    "    return response.choices[0].message.content"
   ]
  },
  {
   "cell_type": "code",
   "execution_count": 2,
   "metadata": {},
   "outputs": [
    {
     "data": {
      "text/markdown": [
       "这是一张卫星地图，重点标注了名为“谷山”的区域及其周边的功能分区与地理信息。以下从地图整体背景、谷山区域、周边功能分区及河流等方面进行详细描述：\n",
       "\n",
       "### 整体背景\n",
       "地图背景显示了一个城市区域的卫星图像，涵盖了建筑物、道路、绿地等城市景观。\n",
       "\n",
       "### 谷山区域\n",
       "地图中央位置有一大片以浅蓝色调标示的区域，标注为“谷山” 。该区域呈现出较为规整的圆形轮廓，似乎是这张地图所关注的核心地带。\n",
       "\n",
       "### 周边功能分区\n",
       "谷山周边分布着多个以红色调标示的功能分区，每个分区都有相应的文字标注：\n",
       "- **科创**：位于谷山区域的右上方，呈现出红色圆圈的形状。\n",
       "- **政务**：位于谷山区域的右下方，同样是红色圆圈的形状。\n",
       "- **金融**：位于谷山区域右下方靠近湘江的位置，以红色圆圈标示。\n",
       "- **湖居大平层**：位于谷山区域的左上方，有红色圆圈和文字标注。\n",
       "- **别墅天地间**：位于谷山区域的左侧，有红色定位标记和文字标注。\n",
       "- **湾居大平层**：位于谷山区域右下方靠近湘江的位置，紧邻“金融”区域，有红色定位标记和文字标注。\n",
       "\n",
       "### 河流\n",
       "地图右侧有一条纵向延伸的绿色条带，代表“湘江” ，它是该区域重要的自然地理标识。此外，在地图右侧中部和下部还分别标注了“捞刀河”和“浏阳河”两条河流 ，它们与湘江共同构成了该区域的水系网络。\n",
       "\n",
       "这张地图通过卫星影像和标注信息，直观地展示了谷山区域及其周边的功能定位和地理环境，突出了该区域在科创、政务、金融等方面的功能分区以及丰富的水系资源。 "
      ],
      "text/plain": [
       "<IPython.core.display.Markdown object>"
      ]
     },
     "execution_count": 2,
     "metadata": {},
     "output_type": "execute_result"
    }
   ],
   "source": [
    "import os\n",
    "import base64\n",
    "\n",
    "from IPython.display import Markdown\n",
    "\n",
    "\n",
    "def encode_image(image_path):\n",
    "    with open(image_path, \"rb\") as f:\n",
    "        return base64.b64encode(f.read()).decode(\"utf-8\")\n",
    "    \n",
    "\n",
    "def get_image_mime_type(image_path):\n",
    "    filename = os.path.basename(image_path)\n",
    "    extension = os.path.splitext(filename)[1].lower()\n",
    "    if extension == '.png':\n",
    "        return 'image/png'\n",
    "    elif extension in ['.jpg', '.jpeg']:\n",
    "        return 'image/jpeg'\n",
    "    elif extension == '.webp':\n",
    "        return 'image/webp'\n",
    "    else:\n",
    "        return 'image/jpeg'\n",
    "    \n",
    "\n",
    "def get_image_url(image_path):\n",
    "    base64_image = encode_image(image_path)\n",
    "    mime_type = get_image_mime_type(image_path)\n",
    "    return f\"data:{mime_type};base64,{base64_image}\"  \n",
    "    \n",
    "\n",
    "Markdown(call_model(\"描述图片\", get_image_url(\"loupan.webp\")))"
   ]
  },
  {
   "cell_type": "code",
   "execution_count": 3,
   "metadata": {},
   "outputs": [
    {
     "data": {
      "text/markdown": [
       "这是一张房地产企业的宣传海报，采用简洁明快的设计风格，以浅米色为背景，搭配黑色、棕色和红色文字及图标，旨在展示该企业在湖湘地区的布局和综合实力。\n",
       "\n",
       "### 标题与主题\n",
       "海报顶部居中位置是大标题“湖湘匠心房企 实力巨擘”，字体较大且醒目，表明企业在湖湘地区的重要地位和强大实力。\n",
       "\n",
       "### 内容分区\n",
       "海报主要分为四个部分：\n",
       "1. **深耕湖湘 精筑长沙**：位于海报左侧，配有一张湖南省地图，突出显示了长沙市及其周边区域。地图上标注了企业在长沙市望城区、雨花区、岳麓区、开福区、湘潭市、娄底市、郴州市和衡阳市等地的多个项目名称，如“润和瑾悦台”“润和翰文府”“润和滨江湾”等，展示了企业在湖南地区的广泛布局。\n",
       "2. **多元发展 产业布局**：位于海报右侧，以六边形图示展示了企业的多元化业务领域，包括地产开发、工程建设、商业运营、物业服务、装修装饰、高新科技和健康医疗。每个领域都配有相关的图片，展示了不同业务场景，如建筑工地、商业办公、客户服务等。\n",
       "3. **数据展示**：位于地图下方，通过几组数据展示企业的发展成果：\n",
       "    - 润和15载\n",
       "    - 匠造28城\n",
       "    - 开发超1000万㎡\n",
       "    - 商业运营面积超200万㎡\n",
       "    - 交付超700万㎡\n",
       "    - 服务60000+户业主\n",
       "这些数据以黑色字体显示，清晰直观地体现了企业的规模和影响力。\n",
       "4. **颠覆行业 承载精湛的诞生**：位于右下角，通过“稳健力”“品质力”“产品力”“兑现力”四个方面，简要介绍了企业的核心竞争力和优势，如“三湘大地”品牌铸就、“湖湘标杆”品质保证、“品质为王”产品理念、“兑现承诺”高效交付等。\n",
       "\n",
       "### 整体效果\n",
       "海报通过地图、图示、数据和文字的结合，全面且系统地展示了企业在湖湘地区的深耕细作、多元发展以及强大的综合实力，传达出专业、可靠的品牌形象。"
      ],
      "text/plain": [
       "<IPython.core.display.Markdown object>"
      ]
     },
     "execution_count": 3,
     "metadata": {},
     "output_type": "execute_result"
    }
   ],
   "source": [
    "image_url = \"https://mmbiz.qpic.cn/mmbiz_png/XqlClVPRWAkWzpxIEnrnm1r3W8Ica7kAaPF99ZmMSicpqGicNRBcx5rDcSgq14Gf6C3ibjb5QKvRlDJs3icWunVR7w/640?wx_fmt=png&from=appmsg&tp=webp&wxfrom=5&wx_lazy=1&wx_co=1\"\n",
    "Markdown(call_model(\"描述图片\", image_url))"
   ]
  },
  {
   "cell_type": "code",
   "execution_count": 4,
   "metadata": {},
   "outputs": [
    {
     "data": {
      "text/markdown": [
       "这是润和房产的宣传图。上方是“湖湘匠心房企 实力巨擘”标题。中部展示在湖湘的项目分布，涵盖长沙等地；还有多元产业布局。下方列举润和15年成绩，包括开发、运营等数据及服务业主数量等优势。 "
      ],
      "text/plain": [
       "<IPython.core.display.Markdown object>"
      ]
     },
     "execution_count": 4,
     "metadata": {},
     "output_type": "execute_result"
    }
   ],
   "source": [
    "image_url = \"https://mmbiz.qpic.cn/mmbiz_png/XqlClVPRWAkWzpxIEnrnm1r3W8Ica7kAaPF99ZmMSicpqGicNRBcx5rDcSgq14Gf6C3ibjb5QKvRlDJs3icWunVR7w/640?wx_fmt=png&from=appmsg&tp=webp&wxfrom=5&wx_lazy=1&wx_co=1\"\n",
    "Markdown(call_model(\"描述图片，100 字以内\", image_url))"
   ]
  }
 ],
 "metadata": {
  "kernelspec": {
   "display_name": "ai-sandbox-aoUc62G5-py3.12",
   "language": "python",
   "name": "python3"
  },
  "language_info": {
   "codemirror_mode": {
    "name": "ipython",
    "version": 3
   },
   "file_extension": ".py",
   "mimetype": "text/x-python",
   "name": "python",
   "nbconvert_exporter": "python",
   "pygments_lexer": "ipython3",
   "version": "3.12.9"
  }
 },
 "nbformat": 4,
 "nbformat_minor": 2
}
