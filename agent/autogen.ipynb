{
 "cells": [
  {
   "cell_type": "code",
   "execution_count": 3,
   "metadata": {},
   "outputs": [],
   "source": [
    "import os\n",
    "from autogen_agentchat.agents import AssistantAgent\n",
    "from autogen_ext.models.openai import OpenAIChatCompletionClient\n",
    "\n",
    "model_client = OpenAIChatCompletionClient(\n",
    "    api_key=os.environ['OPENAI_API_KEY'],\n",
    "    base_url=os.environ['OPENAI_API_BASE'],\n",
    "    model='gpt-4o-2024-11-20',\n",
    ")"
   ]
  },
  {
   "cell_type": "code",
   "execution_count": 4,
   "metadata": {},
   "outputs": [
    {
     "name": "stdout",
     "output_type": "stream",
     "text": [
      "TaskResult(messages=[TextMessage(source='user', models_usage=None, content=\"Say 'Hello World!'\", type='TextMessage'), TextMessage(source='assistant', models_usage=RequestUsage(prompt_tokens=41, completion_tokens=3), content='Hello World!', type='TextMessage')], stop_reason=None)\n"
     ]
    },
    {
     "name": "stderr",
     "output_type": "stream",
     "text": [
      "/Users/jizhang/Library/Caches/pypoetry/virtualenvs/ai-sandbox-aoUc62G5-py3.12/lib/python3.12/site-packages/autogen_agentchat/agents/_assistant_agent.py:416: UserWarning: Resolved model mismatch: gpt-4o-2024-08-06 != gpt-4o. Model mapping in autogen_ext.models.openai may be incorrect.\n",
      "  model_result = await self._model_client.create(\n"
     ]
    }
   ],
   "source": [
    "agent = AssistantAgent(\"assistant\", model_client)\n",
    "print(await agent.run(task=\"Say 'Hello World!'\"))"
   ]
  },
  {
   "cell_type": "code",
   "execution_count": null,
   "metadata": {},
   "outputs": [],
   "source": [
    "from autogen_agentchat.agents import AssistantAgent, UserProxyAgent\n",
    "from autogen_agentchat.conditions import TextMentionTermination\n",
    "from autogen_agentchat.teams import RoundRobinGroupChat\n",
    "from autogen_agentchat.ui import Console\n",
    "from autogen_ext.agents.web_surfer import MultimodalWebSurfer\n",
    "\n",
    "assistant = AssistantAgent(\"assistant\", model_client)\n",
    "web_surfer = MultimodalWebSurfer(\"web_surfer\", model_client)\n",
    "user_proxy = UserProxyAgent(\"user_proxy\")\n",
    "termination = TextMentionTermination(\"exit\") # Type 'exit' to end the conversation.\n",
    "team = RoundRobinGroupChat([web_surfer, assistant, user_proxy], termination_condition=termination)\n",
    "await Console(team.run_stream(task=\"Find information about AutoGen and write a short summary.\"))\n"
   ]
  },
  {
   "cell_type": "code",
   "execution_count": 4,
   "metadata": {},
   "outputs": [
    {
     "name": "stdout",
     "output_type": "stream",
     "text": [
      "---------- user ----------\n",
      "What is the weather in New York?\n",
      "---------- weather_agent ----------\n",
      "[FunctionCall(id='call_X1R20HEr2cBui3SLnmh1TWbz', arguments='{\"city\":\"New York\"}', name='get_weather')]\n",
      "---------- weather_agent ----------\n",
      "[FunctionExecutionResult(content='The weather in New York is 73 degrees and Sunny.', call_id='call_X1R20HEr2cBui3SLnmh1TWbz', is_error=False)]\n",
      "---------- weather_agent ----------\n",
      "The current weather in New York is 73 degrees and sunny.\n"
     ]
    },
    {
     "data": {
      "text/plain": [
       "TaskResult(messages=[TextMessage(source='user', models_usage=None, content='What is the weather in New York?', type='TextMessage'), ToolCallRequestEvent(source='weather_agent', models_usage=RequestUsage(prompt_tokens=66, completion_tokens=0), content=[FunctionCall(id='call_X1R20HEr2cBui3SLnmh1TWbz', arguments='{\"city\":\"New York\"}', name='get_weather')], type='ToolCallRequestEvent'), ToolCallExecutionEvent(source='weather_agent', models_usage=None, content=[FunctionExecutionResult(content='The weather in New York is 73 degrees and Sunny.', call_id='call_X1R20HEr2cBui3SLnmh1TWbz', is_error=False)], type='ToolCallExecutionEvent'), TextMessage(source='weather_agent', models_usage=RequestUsage(prompt_tokens=64, completion_tokens=14), content='The current weather in New York is 73 degrees and sunny.', type='TextMessage')], stop_reason=None)"
      ]
     },
     "execution_count": 4,
     "metadata": {},
     "output_type": "execute_result"
    }
   ],
   "source": [
    "async def get_weather(city: str) -> str:\n",
    "    \"\"\"Get the weather for a given city.\"\"\"\n",
    "    return f\"The weather in {city} is 73 degrees and Sunny.\"\n",
    "\n",
    "agent = AssistantAgent(\n",
    "    name=\"weather_agent\",\n",
    "    model_client=model_client,\n",
    "    tools=[get_weather],\n",
    "    system_message=\"You are a helpful assistant.\",\n",
    "    reflect_on_tool_use=True,\n",
    "    model_client_stream=True,  # Enable streaming tokens from the model client.\n",
    ")\n",
    "\n",
    "await Console(agent.run_stream(task=\"What is the weather in New York?\"))"
   ]
  },
  {
   "cell_type": "code",
   "execution_count": 4,
   "metadata": {},
   "outputs": [
    {
     "name": "stdout",
     "output_type": "stream",
     "text": [
      "---------- user ----------\n",
      "Write a short poem about the fall season.\n"
     ]
    },
    {
     "name": "stdout",
     "output_type": "stream",
     "text": [
      "---------- primary ----------\n",
      "Golden leaves drift through the air,  \n",
      "Whispers of autumn everywhere.  \n",
      "Crisp winds dance, the world turns slow,  \n",
      "Beneath a blush of amber glow.  \n",
      "\n",
      "Pumpkin spice and fires bright,  \n",
      "Cool, long evenings, stars alight.  \n",
      "Nature sighs, a fleeting call,  \n",
      "In quiet grace, we welcome fall.  \n"
     ]
    },
    {
     "name": "stderr",
     "output_type": "stream",
     "text": [
      "/Users/jizhang/Library/Caches/pypoetry/virtualenvs/ai-sandbox-aoUc62G5-py3.12/lib/python3.12/site-packages/autogen_agentchat/agents/_assistant_agent.py:416: UserWarning: Resolved model mismatch: gpt-4o-2024-11-20 != openai/gpt-4o-2024-11-20. Model mapping in autogen_ext.models.openai may be incorrect.\n",
      "  model_result = await self._model_client.create(\n"
     ]
    },
    {
     "name": "stdout",
     "output_type": "stream",
     "text": [
      "---------- critic ----------\n",
      "This is a lovely poem with vivid imagery and a serene tone that captures the essence of autumn. The flow and word choices evoke a warm and familiar feeling. However, you might consider varying the rhythm slightly to avoid any potential monotony, as the consistent rhyme scheme—while beautiful—could limit dynamic contrast. Additionally, exploring even more unique or unexpected imagery could elevate the poem further and provide a fresh take on the common fall theme.  \n",
      "\n",
      "Once any adjustments or refinements are made, let me know, and we can revisit.\n",
      "---------- primary ----------\n",
      "Thank you for the thoughtful critique! I appreciate your insights and would be happy to refine the poem by incorporating more varied rhythm and fresher imagery while keeping the heart of the piece intact. Here's a revised version:\n",
      "\n",
      "---\n",
      "\n",
      "Shadows stretch long on amber streets,  \n",
      "The earth hums low beneath our feet.  \n",
      "Leaves tumble like whispers, soft and free,  \n",
      "A fleeting dance with mystery.  \n",
      "\n",
      "The skies hold fire before they fade,  \n",
      "A quiet hymn the trees have made.  \n",
      "Beneath this quilt of crisp, cool air,  \n",
      "Fall speaks of change, both bold and rare.  \n",
      "\n",
      "---\n",
      "\n",
      "I hope this revision introduces a balance of familiar warmth and a touch of the unexpected. Let me know your thoughts!\n",
      "---------- critic ----------\n",
      "Your revision brings a delightful freshness to the poem! The modified rhythm adds a compelling dynamic, and the imagery introduces a greater depth that invites the reader to experience the season through a more contemplative lens. Lines like \"Leaves tumble like whispers, soft and free\" and \"The skies hold fire before they fade\" especially stand out for their originality and evocative quality. The poem maintains its warmth while offering a touch of mystery and change, capturing the true essence of fall.\n",
      "\n",
      "APPROVE\n"
     ]
    },
    {
     "data": {
      "text/plain": [
       "TaskResult(messages=[TextMessage(source='user', models_usage=None, content='Write a short poem about the fall season.', type='TextMessage'), TextMessage(source='primary', models_usage=RequestUsage(prompt_tokens=28, completion_tokens=74), content='Golden leaves drift through the air,  \\nWhispers of autumn everywhere.  \\nCrisp winds dance, the world turns slow,  \\nBeneath a blush of amber glow.  \\n\\nPumpkin spice and fires bright,  \\nCool, long evenings, stars alight.  \\nNature sighs, a fleeting call,  \\nIn quiet grace, we welcome fall.  ', type='TextMessage'), TextMessage(source='critic', models_usage=RequestUsage(prompt_tokens=118, completion_tokens=106), content='This is a lovely poem with vivid imagery and a serene tone that captures the essence of autumn. The flow and word choices evoke a warm and familiar feeling. However, you might consider varying the rhythm slightly to avoid any potential monotony, as the consistent rhyme scheme—while beautiful—could limit dynamic contrast. Additionally, exploring even more unique or unexpected imagery could elevate the poem further and provide a fresh take on the common fall theme.  \\n\\nOnce any adjustments or refinements are made, let me know, and we can revisit.', type='TextMessage'), TextMessage(source='primary', models_usage=RequestUsage(prompt_tokens=218, completion_tokens=145), content=\"Thank you for the thoughtful critique! I appreciate your insights and would be happy to refine the poem by incorporating more varied rhythm and fresher imagery while keeping the heart of the piece intact. Here's a revised version:\\n\\n---\\n\\nShadows stretch long on amber streets,  \\nThe earth hums low beneath our feet.  \\nLeaves tumble like whispers, soft and free,  \\nA fleeting dance with mystery.  \\n\\nThe skies hold fire before they fade,  \\nA quiet hymn the trees have made.  \\nBeneath this quilt of crisp, cool air,  \\nFall speaks of change, both bold and rare.  \\n\\n---\\n\\nI hope this revision introduces a balance of familiar warmth and a touch of the unexpected. Let me know your thoughts!\", type='TextMessage'), TextMessage(source='critic', models_usage=RequestUsage(prompt_tokens=379, completion_tokens=98), content='Your revision brings a delightful freshness to the poem! The modified rhythm adds a compelling dynamic, and the imagery introduces a greater depth that invites the reader to experience the season through a more contemplative lens. Lines like \"Leaves tumble like whispers, soft and free\" and \"The skies hold fire before they fade\" especially stand out for their originality and evocative quality. The poem maintains its warmth while offering a touch of mystery and change, capturing the true essence of fall.\\n\\nAPPROVE', type='TextMessage')], stop_reason=\"Text 'APPROVE' mentioned\")"
      ]
     },
     "execution_count": 4,
     "metadata": {},
     "output_type": "execute_result"
    }
   ],
   "source": [
    "from autogen_agentchat.agents import AssistantAgent\n",
    "from autogen_agentchat.conditions import TextMentionTermination\n",
    "from autogen_agentchat.teams import RoundRobinGroupChat\n",
    "from autogen_agentchat.ui import Console\n",
    "\n",
    "primary_agent = AssistantAgent(\n",
    "    \"primary\",\n",
    "    model_client=model_client,\n",
    "    system_message=\"You are a helpful AI assistant.\",\n",
    ")\n",
    "\n",
    "critic_agent = AssistantAgent(\n",
    "    \"critic\",\n",
    "    model_client=model_client,\n",
    "    system_message=\"Provide constructive feedback. Respond with 'APPROVE' when your feedbacks are addressed.\",\n",
    ")\n",
    "\n",
    "text_termination = TextMentionTermination(\"APPROVE\")\n",
    "team = RoundRobinGroupChat([primary_agent, critic_agent], termination_condition=text_termination)\n",
    "await Console(team.run_stream(task=\"Write a short poem about the fall season.\")) "
   ]
  }
 ],
 "metadata": {
  "kernelspec": {
   "display_name": "ai-sandbox-aoUc62G5-py3.12",
   "language": "python",
   "name": "python3"
  },
  "language_info": {
   "codemirror_mode": {
    "name": "ipython",
    "version": 3
   },
   "file_extension": ".py",
   "mimetype": "text/x-python",
   "name": "python",
   "nbconvert_exporter": "python",
   "pygments_lexer": "ipython3",
   "version": "3.12.9"
  }
 },
 "nbformat": 4,
 "nbformat_minor": 2
}
