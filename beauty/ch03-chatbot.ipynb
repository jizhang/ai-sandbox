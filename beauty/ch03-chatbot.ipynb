{
 "cells": [
  {
   "cell_type": "code",
   "execution_count": 3,
   "metadata": {},
   "outputs": [],
   "source": [
    "import os\n",
    "\n",
    "from openai import OpenAI\n",
    "\n",
    "client = OpenAI(\n",
    "    base_url=os.environ['OPENAI_API_BASE'],\n",
    "    api_key=os.environ['OPENAI_API_KEY'],\n",
    ")"
   ]
  },
  {
   "cell_type": "code",
   "execution_count": 5,
   "metadata": {},
   "outputs": [],
   "source": [
    "def ask_gpt(prompt, temperature=0.5):\n",
    "    response = client.completions.create(\n",
    "        model='gpt-4o-mini',\n",
    "        prompt=prompt,\n",
    "        max_tokens=512,\n",
    "        n=1,\n",
    "        stop=None,\n",
    "        temperature=temperature,\n",
    "    )\n",
    "\n",
    "    return response.choices[0].text.strip()"
   ]
  },
  {
   "cell_type": "code",
   "execution_count": null,
   "metadata": {},
   "outputs": [],
   "source": [
    "def generate_prompt(questions, answers):\n",
    "    prompt = ''\n",
    "    for i, answer in enumerate(answers):\n",
    "        prompt += f'Q: {questions[i]}\\n\\n'\n",
    "        prompt += f'A: {answer}\\n\\n'\n",
    "    prompt += f'Q: {questions[-1]}\\n\\n'\n",
    "    prompt += 'A: '\n",
    "    return prompt\n",
    "\n",
    "\n",
    "questions = []\n",
    "answers = []\n",
    "\n",
    "while True:\n",
    "    user_input = input('> ')\n",
    "    if user_input.lower() in ['bye', 'goodbye', 'exit']:\n",
    "        print('Goodbye!')\n",
    "        break\n",
    "\n",
    "    questions.append(user_input)\n",
    "    prompt = generate_prompt(questions, answers)\n",
    "    answer = ask_gpt(prompt)\n",
    "    print(answer)\n",
    "    answers.append(answer)"
   ]
  },
  {
   "cell_type": "code",
   "execution_count": 6,
   "metadata": {},
   "outputs": [
    {
     "name": "stdout",
     "output_type": "stream",
     "text": [
      "正面\n",
      "负面\n"
     ]
    }
   ],
   "source": [
    "few_shots = \"\"\"判断一下用户的评论情感上是正面的还是负面的。仅回答“正面”或“负面”。以下是一些例子：\n",
    "\n",
    "评论：买的银色版真的很好看，一天就到了，晚上就开始拿起来完系统很丝滑流畅，做工扎实，手感细腻，很精致哦苹果一如既往的好品质\n",
    "情感：正面\n",
    "\n",
    "评论：随意降价，不予价保，服务态度差\n",
    "情感：负面\n",
    "\n",
    "\"\"\"\n",
    "\n",
    "good_case = few_shots + \"\"\"\n",
    "评论：外形外观：苹果审美一直很好，金色非常漂亮\n",
    "拍照效果：14pro升级的4800万像素真的是没的说，太好了，\n",
    "运行速度：苹果的反应速度好，用上三五年也不会卡顿的，之前的7P用到现在也不卡\n",
    "其他特色：14pro的磨砂金真的太好看了，不太高调，也不至于没有特点，非常耐看，很好的\n",
    "情感：\"\"\"\n",
    "\n",
    "print(ask_gpt(good_case, 0))\n",
    "\n",
    "bad_case = few_shots + \"\"\"\n",
    "评论：信号不好电池也不耐电不推荐购买\n",
    "情感：\"\"\"\n",
    "\n",
    "print(ask_gpt(bad_case, 0))"
   ]
  }
 ],
 "metadata": {
  "kernelspec": {
   "display_name": "ai-sandbox-aoUc62G5-py3.12",
   "language": "python",
   "name": "python3"
  },
  "language_info": {
   "codemirror_mode": {
    "name": "ipython",
    "version": 3
   },
   "file_extension": ".py",
   "mimetype": "text/x-python",
   "name": "python",
   "nbconvert_exporter": "python",
   "pygments_lexer": "ipython3",
   "version": "3.12.8"
  }
 },
 "nbformat": 4,
 "nbformat_minor": 2
}
