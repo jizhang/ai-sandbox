{
 "cells": [
  {
   "cell_type": "code",
   "execution_count": 1,
   "metadata": {},
   "outputs": [
    {
     "name": "stdout",
     "output_type": "stream",
     "text": [
      "好评例子的评分：0.1436832465680912\n",
      "差评例子的评分：-0.09548049219312282\n"
     ]
    }
   ],
   "source": [
    "import os\n",
    "\n",
    "import numpy as np\n",
    "from openai import OpenAI\n",
    "\n",
    "EMBEDDING_MODEL = 'text-embedding-3-small'\n",
    "\n",
    "client = OpenAI(\n",
    "    base_url=os.getenv('OPENAI_BASE_URL'),\n",
    "    api_key=os.getenv('OPENAI_API_KEY'),\n",
    ")\n",
    "\n",
    "def get_embedding(text):\n",
    "    text = text.replace('\\n', ' ')\n",
    "    resp = client.embeddings.create(input=[text], model=EMBEDDING_MODEL)\n",
    "    return resp.data[0].embedding\n",
    "\n",
    "\n",
    "def cosine_similarity(vector_a, vector_b):\n",
    "    dot_product = np.dot(vector_a, vector_b)\n",
    "    norm_a = np.linalg.norm(vector_a)\n",
    "    norm_b = np.linalg.norm(vector_b)\n",
    "    epsilon = 1e-10\n",
    "    cosine_similarity = dot_product / (norm_a * norm_b + epsilon)\n",
    "    return cosine_similarity\n",
    "\n",
    "\n",
    "positive_review = get_embedding('好评')\n",
    "negative_review = get_embedding('差评')\n",
    "\n",
    "positive_example = get_embedding(\"买的银色版真的很好看，一天就到了，晚上就开始拿起来完系统很丝滑流畅，做工扎实，手感细腻，很精致哦苹果一如既往的好品质\")\n",
    "negative_example = get_embedding(\"随意降价，不予价保，服务态度差\")\n",
    "\n",
    "\n",
    "def get_score(sample_embedding):\n",
    "    positive_similarity = cosine_similarity(sample_embedding, positive_review)\n",
    "    negative_similarity = cosine_similarity(sample_embedding, negative_review)\n",
    "    return positive_similarity - negative_similarity\n",
    "\n",
    "\n",
    "positive_score = get_score(positive_example)\n",
    "negative_score = get_score(negative_example)\n",
    "\n",
    "print(f'好评例子的评分：{positive_score}')\n",
    "print(f'差评例子的评分：{negative_score}')"
   ]
  },
  {
   "cell_type": "code",
   "execution_count": 2,
   "metadata": {},
   "outputs": [
    {
     "name": "stdout",
     "output_type": "stream",
     "text": [
      "好评餐馆的评分：0.07214938301037083\n",
      "差评餐馆的评分：-0.05212176686515646\n"
     ]
    }
   ],
   "source": [
    "good_restaurant = get_embedding('这家餐馆太好吃了，一点都不糟糕')\n",
    "bad_restaurant = get_embedding('这家餐馆太糟糕了，一点都不好吃')\n",
    "\n",
    "good_restaurant_score = get_score(good_restaurant)\n",
    "bad_restaurant_score = get_score(bad_restaurant)\n",
    "\n",
    "print(f'好评餐馆的评分：{good_restaurant_score}')\n",
    "print(f'差评餐馆的评分：{bad_restaurant_score}')"
   ]
  },
  {
   "cell_type": "code",
   "execution_count": 3,
   "metadata": {},
   "outputs": [
    {
     "name": "stdout",
     "output_type": "stream",
     "text": [
      "              precision    recall  f1-score   support\n",
      "\n",
      "    negative       0.76      0.96      0.85       136\n",
      "    positive       0.99      0.95      0.97       789\n",
      "\n",
      "    accuracy                           0.95       925\n",
      "   macro avg       0.88      0.96      0.91       925\n",
      "weighted avg       0.96      0.95      0.95       925\n",
      "\n"
     ]
    }
   ],
   "source": [
    "import pandas as pd\n",
    "from sklearn.metrics import classification_report\n",
    "\n",
    "# https://github.com/openai/openai-cookbook/blob/main/examples/Get_embeddings_from_dataset.ipynb\n",
    "datafile_path = os.path.join(os.getenv('SAMPLE_DATA_DIR'), 'fine_food_reviews_with_embeddings_1k.csv')\n",
    "df = pd.read_csv(datafile_path)\n",
    "df['embedding'] = df['embedding'].apply(eval).apply(np.array)\n",
    "df = df[df['Score'] != 3]\n",
    "df['sentiment'] = df['Score'].replace({\n",
    "    1: 'negative',\n",
    "    2: 'negative',\n",
    "    4: 'positive',\n",
    "    5: 'positive',\n",
    "})\n",
    "\n",
    "labels = [\n",
    "    'An Amazon review with a negative sentiment.',\n",
    "    'An Amazon review with a positive sentiment.',\n",
    "]\n",
    "label_embeddings = [get_embedding(label) for label in labels]\n",
    "\n",
    "\n",
    "def label_score(review_embedding, label_embeddings):\n",
    "    positive_similarity = cosine_similarity(review_embedding, label_embeddings[1])\n",
    "    negative_similarity = cosine_similarity(review_embedding, label_embeddings[0])\n",
    "    return positive_similarity - negative_similarity\n",
    "\n",
    "\n",
    "probas = df['embedding'].apply(lambda x: label_score(x, label_embeddings))\n",
    "preds = probas.apply(lambda x: 'positive' if x > 0 else 'negative')\n",
    "\n",
    "report = classification_report(df['sentiment'], preds)\n",
    "print(report)"
   ]
  },
  {
   "cell_type": "code",
   "execution_count": 4,
   "metadata": {},
   "outputs": [
    {
     "data": {
      "text/plain": [
       "Text(0.5, 1.0, '2-class Precision-Recall curve')"
      ]
     },
     "execution_count": 4,
     "metadata": {},
     "output_type": "execute_result"
    },
    {
     "data": {
      "image/png": "[encoded data removed]",
      "text/plain": [
       "<Figure size 640x480 with 1 Axes>"
      ]
     },
     "metadata": {},
     "output_type": "display_data"
    }
   ],
   "source": [
    "from sklearn.metrics import PrecisionRecallDisplay\n",
    "\n",
    "display = PrecisionRecallDisplay.from_predictions(df['sentiment'], probas, pos_label='positive')\n",
    "display.ax_.set_title('2-class Precision-Recall curve')"
   ]
  }
 ],
 "metadata": {
  "kernelspec": {
   "display_name": "ai-sandbox-aoUc62G5-py3.13",
   "language": "python",
   "name": "python3"
  },
  "language_info": {
   "codemirror_mode": {
    "name": "ipython",
    "version": 3
   },
   "file_extension": ".py",
   "mimetype": "text/x-python",
   "name": "python",
   "nbconvert_exporter": "python",
   "pygments_lexer": "ipython3",
   "version": "3.13.1"
  }
 },
 "nbformat": 4,
 "nbformat_minor": 2
}
