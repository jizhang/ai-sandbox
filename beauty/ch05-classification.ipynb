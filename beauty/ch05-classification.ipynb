{
 "cells": [
  {
   "cell_type": "code",
   "execution_count": 1,
   "metadata": {},
   "outputs": [],
   "source": [
    "import os\n",
    "\n",
    "import pandas as pd\n",
    "import numpy as np\n",
    "\n",
    "EMBEDDING_MODEL = 'text-embedding-3-small'"
   ]
  },
  {
   "cell_type": "code",
   "execution_count": 176,
   "metadata": {},
   "outputs": [],
   "source": [
    "data_file = os.path.join(os.environ['GEEKTIME_AI_COURSE_DATA'], 'toutiao_cat_data.txt')\n",
    "df = pd.read_csv(data_file, sep='_!_', names=['id', 'code', 'category', 'title', 'keywords'], index_col='id',engine='python')\n",
    "df = df.fillna('')\n",
    "df['combined'] = '标题: ' + df.title.str.strip() + '; 关键字: ' + df.keywords.str.strip()"
   ]
  },
  {
   "cell_type": "code",
   "execution_count": 177,
   "metadata": {},
   "outputs": [],
   "source": [
    "# https://cookbook.openai.com/examples/how_to_count_tokens_with_tiktoken\n",
    "import tiktoken\n",
    "\n",
    "encoding = tiktoken.encoding_for_model(EMBEDDING_MODEL)  # cl100k_base\n",
    "df['n_tokens'] = df.combined.apply(lambda x: len(encoding.encode(x)))"
   ]
  },
  {
   "cell_type": "code",
   "execution_count": 178,
   "metadata": {},
   "outputs": [
    {
     "data": {
      "text/plain": [
       "(382688, 382688)"
      ]
     },
     "execution_count": 178,
     "metadata": {},
     "output_type": "execute_result"
    }
   ],
   "source": [
    "df_filtered = df[df.n_tokens <= 8000]\n",
    "len(df), len(df_filtered)"
   ]
  },
  {
   "cell_type": "code",
   "execution_count": 212,
   "metadata": {},
   "outputs": [],
   "source": [
    "import backoff\n",
    "from openai import OpenAI, RateLimitError\n",
    "\n",
    "client = OpenAI(\n",
    "    base_url=os.environ['OPENAI_API_BASE'],\n",
    "    api_key=os.environ['OPENAI_API_KEY'],\n",
    ")\n",
    "\n",
    "\n",
    "@backoff.on_exception(backoff.expo, RateLimitError)\n",
    "def get_embeddings(texts):\n",
    "    texts = [text.replace('\\n', ' ') for text in texts]\n",
    "    response = client.embeddings.create(\n",
    "        input=texts,\n",
    "        model=EMBEDDING_MODEL,\n",
    "    )\n",
    "    return [item.embedding for item in response.data]"
   ]
  },
  {
   "cell_type": "code",
   "execution_count": 217,
   "metadata": {},
   "outputs": [],
   "source": [
    "df_filtered['embedding'] = pd.Series(np.nan, dtype='object')"
   ]
  },
  {
   "cell_type": "code",
   "execution_count": null,
   "metadata": {},
   "outputs": [],
   "source": [
    "combined = df_filtered[df_filtered.embedding.isna()].combined.head(1000)\n",
    "embeddings = get_embeddings(combined.to_list())\n",
    "embedding = pd.Series(embeddings, index=combined.index, name='embedding')\n",
    "\n",
    "df_filtered.update(embedding)\n",
    "df_filtered.head()"
   ]
  },
  {
   "cell_type": "code",
   "execution_count": 2,
   "metadata": {},
   "outputs": [],
   "source": [
    "saved_file = os.path.join(os.environ['GEEKTIME_AI_COURSE_DATA'], 'toutiao_cat_data_embeddings.parquet')"
   ]
  },
  {
   "cell_type": "code",
   "execution_count": null,
   "metadata": {},
   "outputs": [],
   "source": [
    "df_filtered.to_parquet(saved_file)"
   ]
  },
  {
   "cell_type": "code",
   "execution_count": 5,
   "metadata": {},
   "outputs": [],
   "source": [
    "from sklearn.model_selection import train_test_split\n",
    "from sklearn.metrics import classification_report\n",
    "\n",
    "training_data = pd.read_parquet(saved_file)\n",
    "df_training = training_data[training_data.embedding.notna()]"
   ]
  },
  {
   "cell_type": "code",
   "execution_count": null,
   "metadata": {},
   "outputs": [],
   "source": [
    "from sklearn.ensemble import RandomForestClassifier\n",
    "\n",
    "X_train, X_test, y_train, y_test = train_test_split(\n",
    "    df_training.embedding.tolist(),\n",
    "    df_training.category,\n",
    "    test_size=0.2,\n",
    "    random_state=42,\n",
    ")\n",
    "\n",
    "clf = RandomForestClassifier(n_estimators=300)\n",
    "clf.fit(X_train, y_train)\n",
    "preds = clf.predict(X_test)\n",
    "probas = clf.predict_proba(X_test)\n",
    "\n",
    "report = classification_report(y_test, preds)\n",
    "print(report)"
   ]
  },
  {
   "cell_type": "code",
   "execution_count": 6,
   "metadata": {},
   "outputs": [
    {
     "name": "stdout",
     "output_type": "stream",
     "text": [
      "                    precision    recall  f1-score   support\n",
      "\n",
      "  news_agriculture       0.93      0.88      0.90        32\n",
      "          news_car       0.97      0.95      0.96        37\n",
      "      news_culture       0.81      0.86      0.83        35\n",
      "          news_edu       0.84      0.84      0.84        32\n",
      "news_entertainment       0.79      0.91      0.85        33\n",
      "      news_finance       0.91      0.78      0.84        37\n",
      "         news_game       0.87      0.87      0.87        15\n",
      "        news_house       0.87      0.93      0.90        29\n",
      "     news_military       0.78      0.81      0.79        31\n",
      "       news_sports       1.00      0.95      0.97        39\n",
      "         news_tech       0.79      0.85      0.82        27\n",
      "       news_travel       0.74      0.74      0.74        23\n",
      "        news_world       0.82      0.79      0.81        29\n",
      "             stock       0.00      0.00      0.00         1\n",
      "\n",
      "          accuracy                           0.86       400\n",
      "         macro avg       0.79      0.80      0.79       400\n",
      "      weighted avg       0.86      0.86      0.86       400\n",
      "\n"
     ]
    }
   ],
   "source": [
    "from sklearn.linear_model import LogisticRegression\n",
    "\n",
    "X_train, X_test, y_train, y_test = train_test_split(\n",
    "    df_training.embedding.tolist(),\n",
    "    df_training.category,\n",
    "    test_size=0.2,\n",
    "    random_state=42,\n",
    ")\n",
    "\n",
    "clf = LogisticRegression()\n",
    "clf.fit(X_train, y_train)\n",
    "preds = clf.predict(X_test)\n",
    "probas = clf.predict_proba(X_test)\n",
    "\n",
    "report = classification_report(y_test, preds, zero_division=0)\n",
    "print(report)"
   ]
  }
 ],
 "metadata": {
  "kernelspec": {
   "display_name": "ai-sandbox-aoUc62G5-py3.12",
   "language": "python",
   "name": "python3"
  },
  "language_info": {
   "codemirror_mode": {
    "name": "ipython",
    "version": 3
   },
   "file_extension": ".py",
   "mimetype": "text/x-python",
   "name": "python",
   "nbconvert_exporter": "python",
   "pygments_lexer": "ipython3",
   "version": "3.12.8"
  }
 },
 "nbformat": 4,
 "nbformat_minor": 2
}
